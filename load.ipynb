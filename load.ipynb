{
 "cells": [
  {
   "cell_type": "code",
   "execution_count": null,
   "metadata": {},
   "outputs": [],
   "source": [
    "\n",
    "import numpy as np\n",
    "import requests\n",
    "import re\n",
    "import math\n",
    "import time\n",
    "from six.moves import input\n",
    "import random\n",
    "\n",
    "def load():\n",
    "    \n",
    "      \n",
    "    url = \"http://localhost:8080/primecheck\"\n",
    "mode = random.randint(0,1)\n",
    "if (mode==\"1\"):\n",
    "    mean =float(input(\"set mean for Normal distribution:\"))\n",
    "    dev = float(input(\"set standard deviation for Normal distribution:\"))\n",
    "else:\n",
    "    lam = float(input(\"set lambda for Poisson distribution:\"))\n",
    "it = float(input(\"set number of iterations:\"))\n",
    "i=0\n",
    "if (mode==\"1\"):\n",
    "    while i<it :\n",
    "        s=np.random.normal(mean, dev, 10)\n",
    "        for index in range(len(s)):\n",
    "            print(s[index])\n",
    "            time.sleep(100)\n",
    "            page = requests.get(url)\n",
    "            page = page.content\n",
    "            page = page.decode('utf-8')\n",
    "            x=page\n",
    "        i=i+1\n",
    "else:\n",
    "    while i<it :\n",
    "        s=np.random.poisson(lam=lam,size=10)\n",
    "        for index in range(len(s)):\n",
    "            print(s[index])\n",
    "            time.sleep(100)\n",
    "            page = requests.get(url)\n",
    "            page = page.content\n",
    "            page = page.decode('utf-8')\n",
    "            x=page\n",
    "        i =i+1\n",
    "    \n"
   ]
  },
  {
   "cell_type": "code",
   "execution_count": null,
   "metadata": {},
   "outputs": [],
   "source": []
  },
  {
   "cell_type": "code",
   "execution_count": null,
   "metadata": {},
   "outputs": [],
   "source": []
  },
  {
   "cell_type": "code",
   "execution_count": null,
   "metadata": {},
   "outputs": [],
   "source": []
  }
 ],
 "metadata": {
  "kernelspec": {
   "display_name": "Python 3",
   "language": "python",
   "name": "python3"
  },
  "language_info": {
   "codemirror_mode": {
    "name": "ipython",
    "version": 3
   },
   "file_extension": ".py",
   "mimetype": "text/x-python",
   "name": "python",
   "nbconvert_exporter": "python",
   "pygments_lexer": "ipython3",
   "version": "3.6.10"
  }
 },
 "nbformat": 4,
 "nbformat_minor": 2
}
